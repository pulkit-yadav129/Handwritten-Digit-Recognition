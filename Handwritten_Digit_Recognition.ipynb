{
  "nbformat": 4,
  "nbformat_minor": 0,
  "metadata": {
    "colab": {
      "name": "Handwritten Digit Recognition.ipynb",
      "provenance": []
    },
    "kernelspec": {
      "name": "python3",
      "display_name": "Python 3"
    },
    "language_info": {
      "name": "python"
    }
  },
  "cells": [
    {
      "cell_type": "code",
      "execution_count": 1,
      "metadata": {
        "colab": {
          "base_uri": "https://localhost:8080/",
          "height": 340
        },
        "id": "5dLeOEFR1O9k",
        "outputId": "33f5a41c-c43f-4d78-b57a-a3e6136d7bcf"
      },
      "outputs": [
        {
          "output_type": "stream",
          "name": "stdout",
          "text": [
            "(array([3., 5., 8.]), array([1, 1, 5]))\n",
            "2\n",
            "8.0\n"
          ]
        },
        {
          "output_type": "display_data",
          "data": {
            "image/png": "[encoded data removed]",
            "text/plain": [
              "<Figure size 432x288 with 1 Axes>"
            ]
          },
          "metadata": {
            "needs_background": "light"
          }
        },
        {
          "output_type": "stream",
          "name": "stdout",
          "text": [
            "8.0\n"
          ]
        }
      ],
      "source": [
        "import pandas as pd\n",
        "import numpy as np\n",
        "import matplotlib.pyplot as plt\n",
        "\n",
        "df=pd.read_csv('/content/train(1).csv')\n",
        "\n",
        "data=df.values\n",
        "\n",
        "x=data[:,1:]\n",
        "y=data[:,0]\n",
        "\n",
        "split=int(0.8*x.shape[0])\n",
        "x_train=x[:split,:]\n",
        "y_train=y[:split]\n",
        "x_test=x[split:,:]\n",
        "y_test=y[split:]\n",
        "\n",
        "\n",
        "def drawImage(sample):\n",
        "  img=sample.reshape((28,28))\n",
        "  plt.imshow(img,cmap=\"gray\")\n",
        "  plt.show()\n",
        "\n",
        "\n",
        "\n",
        "def distance(x1,x2):\n",
        "  return np.sqrt(sum((x1-x2)**2))\n",
        "\n",
        "def knn(x,y,querypoint,k=7):\n",
        "  vals=[]\n",
        "  for i in range(x.shape[0]):\n",
        "    d=distance(querypoint,x[i])\n",
        "    vals.append((d,y[i]))\n",
        "    \n",
        "  vals=sorted(vals)\n",
        "  vals=vals[:k]\n",
        "  vals=np.array(vals)\n",
        "\n",
        "  new_values=np.unique(vals[:,1],return_counts=True)\n",
        "  print(new_values)\n",
        "  index=new_values[1].argmax()\n",
        "  print(index)\n",
        "\n",
        "  pred=new_values[0][index]\n",
        "\n",
        "  return pred\n",
        "\n",
        "pred=knn(x_train,y_train,x_test[24])\n",
        "print(pred)\n",
        "drawImage(x_test[24])\n",
        "print(y_test[24])"
      ]
    }
  ]
}